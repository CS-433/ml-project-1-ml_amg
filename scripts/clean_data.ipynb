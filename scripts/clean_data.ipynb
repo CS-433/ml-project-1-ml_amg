{
 "cells": [
  {
   "cell_type": "code",
   "execution_count": null,
   "id": "2e3e9ea1",
   "metadata": {},
   "outputs": [],
   "source": [
    "def clean_data(x):\n",
    "    # clean the data\n",
    "    mean_x = np.mean(x)\n",
    "    row_id, col_id = np.where(x == -999.0)\n",
    "    x[row_id, col_id] = np.mean(x)\n",
    "    return x"
   ]
  }
 ],
 "metadata": {
  "kernelspec": {
   "display_name": "Python 3",
   "language": "python",
   "name": "python3"
  },
  "language_info": {
   "codemirror_mode": {
    "name": "ipython",
    "version": 3
   },
   "file_extension": ".py",
   "mimetype": "text/x-python",
   "name": "python",
   "nbconvert_exporter": "python",
   "pygments_lexer": "ipython3",
   "version": "3.8.8"
  }
 },
 "nbformat": 4,
 "nbformat_minor": 5
}
