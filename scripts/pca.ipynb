{
 "cells": [
  {
   "cell_type": "code",
   "execution_count": 1,
   "id": "7d302b2b",
   "metadata": {},
   "outputs": [],
   "source": [
    "def pca_decomposition(data, num_components):\n",
    "    '''\n",
    "    Linear dimensionality reduction using Singular Value Decomposition of the data\n",
    "    to project it to a lower dimensional space\n",
    "    '''\n",
    "    data_meaned = data - np.mean(data)\n",
    "    # calculating the covariance matrix of the mean-centered data\n",
    "    covariance_m = np.cov(data_meaned , rowvar = False)\n",
    "    \n",
    "    # calculating eigenvalues and eigenvectors of the covariance matrix\n",
    "    e_vals , e_vecs = np.linalg.eigh(covariance_m)\n",
    "    \n",
    "    # sort the eigenvalues in descending order\n",
    "    sorted_id = np.argsort(e_vals)[::-1]\n",
    "    e_vals_sorted = e_vals[sorted_id]\n",
    "    \n",
    "    # sort the eigenvectors \n",
    "    e_vecs_sorted = e_vecs[:,sorted_id]\n",
    "    \n",
    "    # select the first num_components eigenvectors\n",
    "    selected_e_vecs = e_vecs_sorted[:,:num_components]\n",
    "    \n",
    "    # transform the data \n",
    "    pca_components = np.dot(selected_e_vecs.transpose(),data_meaned.transpose()).transpose()\n",
    "    \n",
    "    return pca_components"
   ]
  },
  {
   "cell_type": "code",
   "execution_count": null,
   "id": "a8f7fec4",
   "metadata": {},
   "outputs": [],
   "source": []
  }
 ],
 "metadata": {
  "kernelspec": {
   "display_name": "Python 3",
   "language": "python",
   "name": "python3"
  },
  "language_info": {
   "codemirror_mode": {
    "name": "ipython",
    "version": 3
   },
   "file_extension": ".py",
   "mimetype": "text/x-python",
   "name": "python",
   "nbconvert_exporter": "python",
   "pygments_lexer": "ipython3",
   "version": "3.8.8"
  }
 },
 "nbformat": 4,
 "nbformat_minor": 5
}
