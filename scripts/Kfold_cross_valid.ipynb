{
 "cells": [
  {
   "cell_type": "code",
   "execution_count": null,
   "id": "591aba65",
   "metadata": {},
   "outputs": [],
   "source": [
    "# split data into k folds\n",
    "def cross_validation__kfold(ids, num_folds=10):\n",
    "    '''\n",
    "    K-fold cross-validation: divides all the samples in num_folds groups of samples\n",
    "    '''\n",
    "    train_id = list()\n",
    "    test_id = list()\n",
    "    data_index = np.arange(ids.shape[0])\n",
    "    \n",
    "    # size of each folder\n",
    "    fold_size = int(ids.shape[0] / num_folds)\n",
    "    \n",
    "    for i in range(num_folds):\n",
    "        test_fold = list()\n",
    "        train_fold = list()\n",
    "        \n",
    "        test_fold = data_index[fold_size*i:fold_size*(i+1)]\n",
    "        train_fold = np.delete(data_index, test_fold)\n",
    "        \n",
    "        test_id.append(test_fold)\n",
    "        train_id.append(train_fold)\n",
    "    return test_id, train_id"
   ]
  }
 ],
 "metadata": {
  "kernelspec": {
   "display_name": "Python 3",
   "language": "python",
   "name": "python3"
  },
  "language_info": {
   "codemirror_mode": {
    "name": "ipython",
    "version": 3
   },
   "file_extension": ".py",
   "mimetype": "text/x-python",
   "name": "python",
   "nbconvert_exporter": "python",
   "pygments_lexer": "ipython3",
   "version": "3.8.8"
  }
 },
 "nbformat": 4,
 "nbformat_minor": 5
}
